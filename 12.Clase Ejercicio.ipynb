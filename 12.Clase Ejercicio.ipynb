{
 "cells": [
  {
   "cell_type": "code",
   "execution_count": null,
   "metadata": {},
   "outputs": [],
   "source": [
    "\"\"\"\n",
    "Se requiere que cree una clase llamada auto, con una variable llamada velocidad con valor de 120 \n",
    "esta clase tendra una funcion llamada frenar la cual disminuira con un bucle(for o while) la velocidad\n",
    "La velocidad disminuira en 5 por cada instancia del bucle y guardara en una lista las velocidades hasta llegar a 0\n",
    "return lista\n",
    "\"\"\""
   ]
  },
  {
   "cell_type": "code",
   "execution_count": 2,
   "metadata": {},
   "outputs": [
    {
     "name": "stdout",
     "output_type": "stream",
     "text": [
      "El auto esta parado\n",
      "[0]\n"
     ]
    }
   ],
   "source": [
    "class auto:\n",
    "    velocidad=120\n",
    "    vel=[]\n",
    "    def frenar ():\n",
    "        for velocidad in range(0,120):\n",
    "            velocidad - 5 \n",
    "            auto.vel.append(velocidad)\n",
    "            if velocidad ==0:\n",
    "                print(\"El auto esta parado\")\n",
    "                break\n",
    "auto.frenar()         \n",
    "print(auto.vel)       \n",
    " \n"
   ]
  }
 ],
 "metadata": {
  "kernelspec": {
   "display_name": "Python 3.10.5 64-bit",
   "language": "python",
   "name": "python3"
  },
  "language_info": {
   "codemirror_mode": {
    "name": "ipython",
    "version": 3
   },
   "file_extension": ".py",
   "mimetype": "text/x-python",
   "name": "python",
   "nbconvert_exporter": "python",
   "pygments_lexer": "ipython3",
   "version": "3.10.5"
  },
  "orig_nbformat": 4,
  "vscode": {
   "interpreter": {
    "hash": "c63d8c7d738c2960218a10995aedf0a7f67a49a231e71037adf0440953cdb45b"
   }
  }
 },
 "nbformat": 4,
 "nbformat_minor": 2
}
