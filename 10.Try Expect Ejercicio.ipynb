{
 "cells": [
  {
   "cell_type": "code",
   "execution_count": null,
   "metadata": {},
   "outputs": [],
   "source": [
    "\"\"\"\n",
    "Continuemos con la calculadora manejando posibles errores que se puedan generar\n",
    "Se le pedira crear manejo de exepciones para divisiones entre 0 y a la hora de convertir texto a numero\n",
    "Ademas de un default para cualquier tipo de problemas inesperados\n",
    "\"\"\""
   ]
  },
  {
   "cell_type": "code",
   "execution_count": 9,
   "metadata": {},
   "outputs": [
    {
     "name": "stdout",
     "output_type": "stream",
     "text": [
      "No se puede dividir entre 0\n",
      "None\n"
     ]
    }
   ],
   "source": [
    "\n",
    "def calculadora(opcion,num1,num2):\n",
    "    try:\n",
    "        opcion=int(opcion)\n",
    "        num1=int(num1)\n",
    "        num2=int(num2) #0, 5\n",
    "        match opcion:\n",
    "            case 1:\n",
    "                return num1+num2\n",
    "            case 2:\n",
    "                return num1-num2\n",
    "            case 3: \n",
    "                return num1*num2\n",
    "            case 4:\n",
    "                resultado=num1/num2\n",
    "                return resultado\n",
    "            case default:\n",
    "                print(\"Ingrese de nuevo los nuevo los numeros\")\n",
    "    except ZeroDivisionError:\n",
    "        print(\"No se puede dividir entre 0\")\n",
    "        calculadora(opcion,num1,input(\"Ingrese nuevamente el numero 2\"))\n",
    "    except:\n",
    "        print(\"No se cual es el error\")\n",
    "        return \"Error\"\n",
    "\n",
    "\n",
    "print(calculadora(\n",
    "    input(\"1.Suma, 2.Resta, 3.Multiplicacion, 4.Division\"),\n",
    "    input(\"Ingrese numero 1\"),\n",
    "    input(\"Ingrese numero 2\")\n",
    "))\n"
   ]
  },
  {
   "cell_type": "code",
   "execution_count": 2,
   "metadata": {},
   "outputs": [
    {
     "name": "stdout",
     "output_type": "stream",
     "text": [
      "Vea mae no se puede dividir por 0, si fue a la escuela?\n",
      "None\n"
     ]
    }
   ],
   "source": [
    "def calculadora(opcion,num1,num2):\n",
    "    try:\n",
    "        opcion=int(opcion)\n",
    "        num1=int(num1)\n",
    "        num2=int(num2)\n",
    "        match opcion:\n",
    "            case 1:\n",
    "                return num1+num2\n",
    "            case 2:\n",
    "                return num1-num2\n",
    "            case 3: \n",
    "                return num1*num2\n",
    "            case 4:\n",
    "                return num1/num2\n",
    "            case default:\n",
    "                print(\"Ingrese de nuevo los nuevo los numeros\")\n",
    "    except ZeroDivisionError:\n",
    "        print(\"Vea mae no se puede dividir por 0, si fue a la escuela?\")\n",
    "        calculadora(opcion,num1,input(\"Ponga un segundo numero, que no sea 0 caballo\"))\n",
    "    except:\n",
    "        print(\"Ya se paseo en esta vara por bestia\")\n",
    "\n",
    "\n",
    "print(calculadora(\n",
    "    input(\"1.Suma, 2.Resta, 3.Multiplicacion, 4.Division\"),\n",
    "    input(\"Ingrese numero 1\"),\n",
    "    input(\"Ingrese numero 2\")\n",
    "))"
   ]
  }
 ],
 "metadata": {
  "interpreter": {
   "hash": "3ef525aed409cc5a13783047c8d4d090b051bbc20387ad523d849e44a70e3fe1"
  },
  "kernelspec": {
   "display_name": "Python 3.10.4 64-bit",
   "language": "python",
   "name": "python3"
  },
  "language_info": {
   "codemirror_mode": {
    "name": "ipython",
    "version": 3
   },
   "file_extension": ".py",
   "mimetype": "text/x-python",
   "name": "python",
   "nbconvert_exporter": "python",
   "pygments_lexer": "ipython3",
   "version": "3.10.5"
  },
  "orig_nbformat": 4
 },
 "nbformat": 4,
 "nbformat_minor": 2
}
