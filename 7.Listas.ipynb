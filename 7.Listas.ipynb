{
 "cells": [
  {
   "cell_type": "code",
   "execution_count": 32,
   "metadata": {},
   "outputs": [
    {
     "ename": "ValueError",
     "evalue": "list.remove(x): x not in list",
     "output_type": "error",
     "traceback": [
      "\u001b[1;31m---------------------------------------------------------------------------\u001b[0m",
      "\u001b[1;31mValueError\u001b[0m                                Traceback (most recent call last)",
      "\u001b[1;32mc:\\Users\\sebas\\Desktop\\Jupyter\\7.Listas.ipynb Cell 1'\u001b[0m in \u001b[0;36m<cell line: 15>\u001b[1;34m()\u001b[0m\n\u001b[0;32m     <a href='vscode-notebook-cell:/c%3A/Users/sebas/Desktop/Jupyter/7.Listas.ipynb#ch0000000?line=12'>13</a>\u001b[0m meses\u001b[39m.\u001b[39mpop()\u001b[39m#Elimina de la lista el ultimo valor\u001b[39;00m\n\u001b[0;32m     <a href='vscode-notebook-cell:/c%3A/Users/sebas/Desktop/Jupyter/7.Listas.ipynb#ch0000000?line=13'>14</a>\u001b[0m \u001b[39m#print(meses[-1])\u001b[39;00m\n\u001b[1;32m---> <a href='vscode-notebook-cell:/c%3A/Users/sebas/Desktop/Jupyter/7.Listas.ipynb#ch0000000?line=14'>15</a>\u001b[0m meses\u001b[39m.\u001b[39;49mremove([\u001b[39m\"\u001b[39;49m\u001b[39mEnero\u001b[39;49m\u001b[39m\"\u001b[39;49m,\u001b[39m\"\u001b[39;49m\u001b[39mFebrero\u001b[39;49m\u001b[39m\"\u001b[39;49m])\u001b[39m#Elimina un valor de una lista dependiendo del parametro\u001b[39;00m\n\u001b[0;32m     <a href='vscode-notebook-cell:/c%3A/Users/sebas/Desktop/Jupyter/7.Listas.ipynb#ch0000000?line=15'>16</a>\u001b[0m \u001b[39mprint\u001b[39m(meses[\u001b[39m1\u001b[39m])\n\u001b[0;32m     <a href='vscode-notebook-cell:/c%3A/Users/sebas/Desktop/Jupyter/7.Listas.ipynb#ch0000000?line=16'>17</a>\u001b[0m meses\n",
      "\u001b[1;31mValueError\u001b[0m: list.remove(x): x not in list"
     ]
    }
   ],
   "source": [
    "#Listas\n",
    "#Definiendo una lista\n",
    "lista=[] #Lista vacia \n",
    "trigjrigjrig=[0,1,2,3,4,5,6,7,8,9,10,11]\n",
    "meses=[\"Enero\",\"Febrero\",\"Marzo\",\"Abril\",'Mayo','Junio','Julio','Agosto','Septiembre','Octubre','Noviembre','Diciembre']\n",
    "#print(meses[1]) #0\n",
    "#print(meses[5:9]) #El slicing no es inclusivo \n",
    "#print(meses[-5]) #Con valores negativos el la lista se recorre desde atras\n",
    "#print(len(meses)) #Imprimir el largo de la lista\n",
    "meses.append(\"mes 13\")#Agrega a la lista un valor\n",
    "#print(meses)\n",
    "#print(meses[-1])\n",
    "meses.pop()#Elimina de la lista el ultimo valor\n",
    "#print(meses[-1])\n",
    "meses.remove(\"Enero\")#Elimina un valor de una lista dependiendo del parametro\n",
    "print(meses[1])\n",
    "meses\n",
    "\n"
   ]
  }
 ],
 "metadata": {
  "interpreter": {
   "hash": "3ef525aed409cc5a13783047c8d4d090b051bbc20387ad523d849e44a70e3fe1"
  },
  "kernelspec": {
   "display_name": "Python 3.10.4 64-bit",
   "language": "python",
   "name": "python3"
  },
  "language_info": {
   "codemirror_mode": {
    "name": "ipython",
    "version": 3
   },
   "file_extension": ".py",
   "mimetype": "text/x-python",
   "name": "python",
   "nbconvert_exporter": "python",
   "pygments_lexer": "ipython3",
   "version": "3.10.5"
  },
  "orig_nbformat": 4
 },
 "nbformat": 4,
 "nbformat_minor": 2
}
