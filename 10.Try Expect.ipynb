{
 "cells": [
  {
   "cell_type": "code",
   "execution_count": null,
   "metadata": {},
   "outputs": [],
   "source": [
    "10/0\n",
    "print(\"El programa continua\")"
   ]
  },
  {
   "cell_type": "code",
   "execution_count": null,
   "metadata": {},
   "outputs": [],
   "source": [
    "try:\n",
    "    #10/0\n",
    "    #print(\"Aqui se corta\")\n",
    "    \"text\"/2\n",
    "except ZeroDivisionError:\n",
    "    print(\"No se pude dividir entre 0\")\n",
    "except :\n",
    "    print(\"No se cual es el error pero el programa continuara\")\n",
    "print(\"El programa continua\")\n"
   ]
  }
 ],
 "metadata": {
  "interpreter": {
   "hash": "3ef525aed409cc5a13783047c8d4d090b051bbc20387ad523d849e44a70e3fe1"
  },
  "kernelspec": {
   "display_name": "Python 3.10.4 64-bit",
   "language": "python",
   "name": "python3"
  },
  "language_info": {
   "codemirror_mode": {
    "name": "ipython",
    "version": 3
   },
   "file_extension": ".py",
   "mimetype": "text/x-python",
   "name": "python",
   "nbconvert_exporter": "python",
   "pygments_lexer": "ipython3",
   "version": "3.10.5"
  },
  "orig_nbformat": 4
 },
 "nbformat": 4,
 "nbformat_minor": 2
}
