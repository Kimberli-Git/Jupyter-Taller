{
 "cells": [
  {
   "cell_type": "code",
   "execution_count": null,
   "metadata": {},
   "outputs": [],
   "source": [
    "\"\"\"\n",
    "Se requiere que cree una clase llamada auto, con una variable llamada velocidad con valor de 120 \n",
    "esta clase tendra una funcion llamada frenar la cual disminuira con un bucle(for o while) la velocidad\n",
    "La velocidad disminuira en 5 por cada instancia del bucle y guardara en una lista las velocidades hasta llegar a 0\n",
    "return lista\n",
    "\"\"\""
   ]
  },
  {
   "cell_type": "code",
   "execution_count": null,
   "metadata": {},
   "outputs": [],
   "source": []
  }
 ],
 "metadata": {
  "interpreter": {
   "hash": "3ef525aed409cc5a13783047c8d4d090b051bbc20387ad523d849e44a70e3fe1"
  },
  "kernelspec": {
   "display_name": "Python 3.10.4 64-bit",
   "language": "python",
   "name": "python3"
  },
  "language_info": {
   "codemirror_mode": {
    "name": "ipython",
    "version": 3
   },
   "file_extension": ".py",
   "mimetype": "text/x-python",
   "name": "python",
   "nbconvert_exporter": "python",
   "pygments_lexer": "ipython3",
   "version": "3.10.4"
  },
  "orig_nbformat": 4
 },
 "nbformat": 4,
 "nbformat_minor": 2
}
